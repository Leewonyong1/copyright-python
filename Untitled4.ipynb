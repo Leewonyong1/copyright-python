{
  "nbformat": 4,
  "nbformat_minor": 0,
  "metadata": {
    "colab": {
      "provenance": [],
      "authorship_tag": "ABX9TyMBvpUumjRE7SbYfkOnN+Rp",
      "include_colab_link": true
    },
    "kernelspec": {
      "name": "python3",
      "display_name": "Python 3"
    },
    "language_info": {
      "name": "python"
    }
  },
  "cells": [
    {
      "cell_type": "markdown",
      "metadata": {
        "id": "view-in-github",
        "colab_type": "text"
      },
      "source": [
        "<a href=\"https://colab.research.google.com/github/Leewonyong1/copyright-python/blob/main/Untitled4.ipynb\" target=\"_parent\"><img src=\"https://colab.research.google.com/assets/colab-badge.svg\" alt=\"Open In Colab\"/></a>"
      ]
    },
    {
      "cell_type": "code",
      "execution_count": 2,
      "metadata": {
        "colab": {
          "base_uri": "https://localhost:8080/"
        },
        "id": "fSExQd3LWx59",
        "outputId": "4cf8259a-156f-4390-c1cc-ad04459bce04"
      },
      "outputs": [
        {
          "output_type": "stream",
          "name": "stdout",
          "text": [
            "a=1, b=2\n"
          ]
        }
      ],
      "source": [
        "a=1\n",
        "b=2\n",
        "print( \"a={}, b={}\".format(a,b) )\n"
      ]
    },
    {
      "cell_type": "code",
      "source": [
        "a = 10\n",
        "a, b = (10, 20)\n",
        "[a, b] = [10, 20]\n",
        "a = b = 10\n",
        "a = None"
      ],
      "metadata": {
        "id": "q3pV4qk-W11k"
      },
      "execution_count": 4,
      "outputs": []
    },
    {
      "cell_type": "code",
      "source": [
        "a = [10, 20, 30]"
      ],
      "metadata": {
        "id": "6NrSSoqYXb4r"
      },
      "execution_count": 6,
      "outputs": []
    },
    {
      "cell_type": "code",
      "source": [
        "a = [10, 20, 30] b = a"
      ],
      "metadata": {
        "id": "7Pvl2jdwXb-n"
      },
      "execution_count": null,
      "outputs": []
    },
    {
      "cell_type": "code",
      "source": [
        "import copy\n",
        "\n",
        "a = [10, 20, 30]\n",
        "b = copy.deepcopy(a)\n",
        "a[0] = 200\n",
        "print(b)  # [10, 20, 30]\n"
      ],
      "metadata": {
        "colab": {
          "base_uri": "https://localhost:8080/"
        },
        "id": "YeD1b076XcEs",
        "outputId": "ef16fd88-8e7c-416f-a7a2-30c75dc0ce98"
      },
      "execution_count": 9,
      "outputs": [
        {
          "output_type": "stream",
          "name": "stdout",
          "text": [
            "[10, 20, 30]\n"
          ]
        }
      ]
    }
  ]
}